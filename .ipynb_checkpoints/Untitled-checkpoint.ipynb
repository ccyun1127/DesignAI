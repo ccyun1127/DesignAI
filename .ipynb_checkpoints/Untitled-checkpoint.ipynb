{
 "cells": [
  {
   "cell_type": "code",
   "execution_count": 2,
   "metadata": {},
   "outputs": [],
   "source": [
    "%matplotlib inline\n",
    "import numpy as np\n",
    "import matplotlib.pyplot as plt\n",
    "import pandas as pd"
   ]
  },
  {
   "cell_type": "code",
   "execution_count": 3,
   "metadata": {},
   "outputs": [
    {
     "name": "stderr",
     "output_type": "stream",
     "text": [
      "Using TensorFlow backend.\n"
     ]
    }
   ],
   "source": [
    "from keras.datasets import mnist"
   ]
  },
  {
   "cell_type": "code",
   "execution_count": 4,
   "metadata": {},
   "outputs": [],
   "source": [
    "(x_train, y_train), (x_test, y_test) = mnist.load_data()"
   ]
  },
  {
   "cell_type": "code",
   "execution_count": 5,
   "metadata": {},
   "outputs": [
    {
     "data": {
      "text/plain": [
       "(28, 28)"
      ]
     },
     "execution_count": 5,
     "metadata": {},
     "output_type": "execute_result"
    }
   ],
   "source": [
    "x_train[1234].shape"
   ]
  },
  {
   "cell_type": "code",
   "execution_count": 7,
   "metadata": {},
   "outputs": [
    {
     "data": {
      "text/plain": [
       "<matplotlib.image.AxesImage at 0x13742969860>"
      ]
     },
     "execution_count": 7,
     "metadata": {},
     "output_type": "execute_result"
    },
    {
     "data": {
      "image/png": "[encoded data removed]",
      "text/plain": [
       "<Figure size 432x288 with 1 Axes>"
      ]
     },
     "metadata": {
      "needs_background": "light"
     },
     "output_type": "display_data"
    }
   ],
   "source": [
    "x_train[1234]\n",
    "plt.imshow(x_train[1234], )"
   ]
  },
  {
   "cell_type": "code",
   "execution_count": 8,
   "metadata": {},
   "outputs": [
    {
     "data": {
      "text/plain": [
       "3"
      ]
     },
     "execution_count": 8,
     "metadata": {},
     "output_type": "execute_result"
    }
   ],
   "source": [
    "y_train[1234]"
   ]
  },
  {
   "cell_type": "code",
   "execution_count": null,
   "metadata": {},
   "outputs": [],
   "source": [
    "# CNN 本身 Input 是矩陣\n",
    "# CNN 要的格式 28*28 的一張 (28, 28, 1)\n",
    "# 按照三張分色 或四張分色 就要有三張或四張()因為我們現在是灰階所以只要一張"
   ]
  },
  {
   "cell_type": "code",
   "execution_count": 9,
   "metadata": {},
   "outputs": [],
   "source": [
    "x_train = x_train.reshape(60000, 28, 28, 1)\n",
    "x_test = x_test.reshape(10000, 28, 28, 1)"
   ]
  },
  {
   "cell_type": "code",
   "execution_count": 10,
   "metadata": {},
   "outputs": [],
   "source": [
    "# 因為希望數字不要是 3.7 8.2 因為結果間沒有連續關係\n",
    "# one hot encoding\n",
    "\n",
    "\n",
    "from keras.utils import np_utils\n",
    "y_train = np_utils.to_categorical(y_train, 10)\n",
    "y_test = np_utils.to_categorical(y_test, 10)"
   ]
  },
  {
   "cell_type": "code",
   "execution_count": 11,
   "metadata": {},
   "outputs": [
    {
     "data": {
      "text/plain": [
       "array([0., 0., 0., 1., 0., 0., 0., 0., 0., 0.], dtype=float32)"
      ]
     },
     "execution_count": 11,
     "metadata": {},
     "output_type": "execute_result"
    }
   ],
   "source": [
    "y_train[1234]\n",
    "# 就會在第四個值是 1 其他都是 0"
   ]
  },
  {
   "cell_type": "code",
   "execution_count": 12,
   "metadata": {},
   "outputs": [],
   "source": [
    "# 壓縮 0-1 (原是 0-255)\n",
    "# 數值大的容易成為關鍵\n",
    "# 不是 0-1 不能用統計的理論\n",
    "\n",
    "x_train = x_train/255\n",
    "x_test = x_test/255"
   ]
  },
  {
   "cell_type": "code",
   "execution_count": 13,
   "metadata": {},
   "outputs": [],
   "source": [
    "# 3 次 convolution 3 次 max-pooling\n",
    "# 2 層 dense\n",
    "\n",
    "# 輸出結果 0-9 有 10 個\n",
    "\n",
    "# maxpooling 2*2\n",
    "\n",
    "# convolution 1: filter(28*28)不算大， 4 個\n",
    "# convolution 2: 8 個\n",
    "# convolution 3: 16 個\n",
    "\n",
    "# filter 大小可以取大概 3*3 大家喜歡奇數\n",
    "\n",
    "# filter 應該要越來越多，因為基本原見的辨別應該沒有很多項、但是越高層開始從低層的結果組合，可以有更種搭配組合可能\n",
    "\n",
    "# 第一層 17 個神經元 \n",
    "# \n",
    "\n",
    "from keras.models import Sequential\n",
    "from keras.layers import Dense, Activation, Flatten\n",
    "from keras.layers import Conv2D, MaxPool2D\n",
    "from keras.optimizers import SGD\n",
    "\n",
    "\n",
    "\n",
    "\n",
    "\n"
   ]
  },
  {
   "cell_type": "code",
   "execution_count": 17,
   "metadata": {},
   "outputs": [],
   "source": [
    "model = Sequential()"
   ]
  },
  {
   "cell_type": "code",
   "execution_count": 18,
   "metadata": {},
   "outputs": [],
   "source": [
    "# 4 個 filter 3*3的大小\n",
    "# 加邊緣記分板同樣大小\n",
    "# 第一層\n",
    "\n",
    "model.add(Conv2D(4, (3, 3), padding='same', input_shape=(28, 28, 1),\n",
    "                activation='relu'))"
   ]
  },
  {
   "cell_type": "code",
   "execution_count": 19,
   "metadata": {},
   "outputs": [],
   "source": [
    "model.add(MaxPool2D(pool_size=(2,2)))"
   ]
  },
  {
   "cell_type": "code",
   "execution_count": 20,
   "metadata": {},
   "outputs": [],
   "source": [
    "# 第二層\n",
    "model.add(Conv2D(8, (3, 3), padding='same',\n",
    "                activation='relu'))"
   ]
  },
  {
   "cell_type": "code",
   "execution_count": 21,
   "metadata": {},
   "outputs": [],
   "source": [
    "# 不一定每次都要 maxpooling\n",
    "model.add(MaxPool2D(pool_size=(2,2)))"
   ]
  },
  {
   "cell_type": "code",
   "execution_count": 22,
   "metadata": {},
   "outputs": [],
   "source": [
    "# 第三層\n",
    "model.add(Conv2D(16, (3, 3), padding='same',\n",
    "                activation='relu'))"
   ]
  },
  {
   "cell_type": "code",
   "execution_count": 23,
   "metadata": {},
   "outputs": [],
   "source": [
    "model.add(MaxPool2D(pool_size=(2,2)))"
   ]
  },
  {
   "cell_type": "code",
   "execution_count": 24,
   "metadata": {},
   "outputs": [],
   "source": [
    "# fully connected\n",
    "\n",
    "# 前面是 keras 自己做的 他知道有幾個神經員輸入\n",
    "model.add(Flatten())\n",
    "model.add(Dense(9, activation='relu'))"
   ]
  },
  {
   "cell_type": "code",
   "execution_count": 25,
   "metadata": {},
   "outputs": [],
   "source": [
    "model.add(Dense(33, activation='relu'))"
   ]
  },
  {
   "cell_type": "code",
   "execution_count": 26,
   "metadata": {},
   "outputs": [],
   "source": [
    "# 結果輸出\n",
    "model.add(Dense(10, activation='softmax'))"
   ]
  },
  {
   "cell_type": "code",
   "execution_count": 27,
   "metadata": {},
   "outputs": [],
   "source": [
    "model.compile(loss='mse', optimizer=SGD(lr=0.07), metrics=['accuracy'])"
   ]
  },
  {
   "cell_type": "code",
   "execution_count": 30,
   "metadata": {},
   "outputs": [
    {
     "name": "stdout",
     "output_type": "stream",
     "text": [
      "_________________________________________________________________\n",
      "Layer (type)                 Output Shape              Param #   \n",
      "=================================================================\n",
      "conv2d_2 (Conv2D)            (None, 28, 28, 4)         40        \n",
      "_________________________________________________________________\n",
      "max_pooling2d_2 (MaxPooling2 (None, 14, 14, 4)         0         \n",
      "_________________________________________________________________\n",
      "conv2d_3 (Conv2D)            (None, 14, 14, 8)         296       \n",
      "_________________________________________________________________\n",
      "max_pooling2d_3 (MaxPooling2 (None, 7, 7, 8)           0         \n",
      "_________________________________________________________________\n",
      "conv2d_4 (Conv2D)            (None, 7, 7, 16)          1168      \n",
      "_________________________________________________________________\n",
      "max_pooling2d_4 (MaxPooling2 (None, 3, 3, 16)          0         \n",
      "_________________________________________________________________\n",
      "flatten_1 (Flatten)          (None, 144)               0         \n",
      "_________________________________________________________________\n",
      "dense_1 (Dense)              (None, 9)                 1305      \n",
      "_________________________________________________________________\n",
      "dense_2 (Dense)              (None, 33)                330       \n",
      "_________________________________________________________________\n",
      "dense_3 (Dense)              (None, 10)                340       \n",
      "=================================================================\n",
      "Total params: 3,479\n",
      "Trainable params: 3,479\n",
      "Non-trainable params: 0\n",
      "_________________________________________________________________\n"
     ]
    }
   ],
   "source": [
    "model.summary()\n",
    "# 28*28 的圖 給 filter 3*3 用了 4 個 輸出的結果是 28*28 \n",
    "# 每一個 FILTER 只有一個 bias\n",
    "# 3*3*4 + 4 = 40\n",
    "# 跟圖片大小沒關係\n",
    "# 參數值不多\n",
    "\n",
    "# 296\n",
    "# 第一層後產生四張 28*28 的矩陣；所以有四層；要在乘上 4\n",
    "# 3*3*8*4 + 8"
   ]
  },
  {
   "cell_type": "code",
   "execution_count": 35,
   "metadata": {},
   "outputs": [
    {
     "name": "stdout",
     "output_type": "stream",
     "text": [
      "Epoch 1/20\n",
      "60000/60000 [==============================] - 24s 399us/step - loss: 0.0118 - acc: 0.9225\n",
      "Epoch 2/20\n",
      "60000/60000 [==============================] - 24s 397us/step - loss: 0.0103 - acc: 0.9320\n",
      "Epoch 3/20\n",
      "60000/60000 [==============================] - 24s 405us/step - loss: 0.0092 - acc: 0.9397\n",
      "Epoch 4/20\n",
      "60000/60000 [==============================] - 24s 397us/step - loss: 0.0084 - acc: 0.9448\n",
      "Epoch 5/20\n",
      "60000/60000 [==============================] - 24s 406us/step - loss: 0.0078 - acc: 0.9489\n",
      "Epoch 6/20\n",
      "60000/60000 [==============================] - 25s 411us/step - loss: 0.0074 - acc: 0.9521\n",
      "Epoch 7/20\n",
      "60000/60000 [==============================] - 24s 401us/step - loss: 0.0070 - acc: 0.9544\n",
      "Epoch 8/20\n",
      "60000/60000 [==============================] - 24s 396us/step - loss: 0.0065 - acc: 0.95770s - loss: 0.0066 - acc: 0.\n",
      "Epoch 9/20\n",
      "60000/60000 [==============================] - 23s 385us/step - loss: 0.0063 - acc: 0.9591\n",
      "Epoch 10/20\n",
      "60000/60000 [==============================] - 24s 403us/step - loss: 0.0060 - acc: 0.9612\n",
      "Epoch 11/20\n",
      "60000/60000 [==============================] - 23s 377us/step - loss: 0.0058 - acc: 0.9620\n",
      "Epoch 12/20\n",
      "60000/60000 [==============================] - 23s 385us/step - loss: 0.0056 - acc: 0.9640\n",
      "Epoch 13/20\n",
      "60000/60000 [==============================] - 23s 388us/step - loss: 0.0054 - acc: 0.9649\n",
      "Epoch 14/20\n",
      "60000/60000 [==============================] - 23s 390us/step - loss: 0.0052 - acc: 0.9662\n",
      "Epoch 15/20\n",
      "60000/60000 [==============================] - 25s 409us/step - loss: 0.0051 - acc: 0.9667\n",
      "Epoch 16/20\n",
      "60000/60000 [==============================] - 24s 407us/step - loss: 0.0049 - acc: 0.9686\n",
      "Epoch 17/20\n",
      "60000/60000 [==============================] - 24s 408us/step - loss: 0.0048 - acc: 0.9691\n",
      "Epoch 18/20\n",
      "60000/60000 [==============================] - 25s 411us/step - loss: 0.0046 - acc: 0.9697\n",
      "Epoch 19/20\n",
      "60000/60000 [==============================] - 23s 381us/step - loss: 0.0045 - acc: 0.9714\n",
      "Epoch 20/20\n",
      "60000/60000 [==============================] - 24s 402us/step - loss: 0.0044 - acc: 0.9713\n"
     ]
    },
    {
     "data": {
      "text/plain": [
       "<keras.callbacks.History at 0x1374267cd68>"
      ]
     },
     "execution_count": 35,
     "metadata": {},
     "output_type": "execute_result"
    }
   ],
   "source": [
    "model.fit(x_train, y_train, batch_size=70, epochs=20)"
   ]
  },
  {
   "cell_type": "code",
   "execution_count": 36,
   "metadata": {},
   "outputs": [
    {
     "name": "stdout",
     "output_type": "stream",
     "text": [
      "10000/10000 [==============================] - 2s 167us/step\n"
     ]
    }
   ],
   "source": [
    "score = model.evaluate(x_test, y_test)"
   ]
  },
  {
   "cell_type": "code",
   "execution_count": 37,
   "metadata": {},
   "outputs": [
    {
     "name": "stdout",
     "output_type": "stream",
     "text": [
      "測試資料的 loss: 0.00589\n",
      "測試資料的正確率: 0.9606\n"
     ]
    }
   ],
   "source": [
    "print(f'測試資料的 loss: {score[0]:.5f}')\n",
    "print(f'測試資料的正確率: {score[1]}')"
   ]
  },
  {
   "cell_type": "code",
   "execution_count": 38,
   "metadata": {},
   "outputs": [],
   "source": [
    "model.save('myCNNModel.h5')"
   ]
  },
  {
   "cell_type": "code",
   "execution_count": 39,
   "metadata": {},
   "outputs": [],
   "source": [
    "del model"
   ]
  },
  {
   "cell_type": "code",
   "execution_count": 40,
   "metadata": {},
   "outputs": [],
   "source": [
    "from keras.models import load_model"
   ]
  },
  {
   "cell_type": "code",
   "execution_count": 41,
   "metadata": {},
   "outputs": [],
   "source": [
    "model = load_model('myCNNmodel.h5')"
   ]
  },
  {
   "cell_type": "code",
   "execution_count": 42,
   "metadata": {},
   "outputs": [],
   "source": [
    "predict = model.predict_classes(x_test)"
   ]
  },
  {
   "cell_type": "code",
   "execution_count": 43,
   "metadata": {},
   "outputs": [
    {
     "data": {
      "image/png": "[encoded data removed]",
      "text/plain": [
       "<Figure size 432x288 with 5 Axes>"
      ]
     },
     "metadata": {
      "needs_background": "light"
     },
     "output_type": "display_data"
    }
   ],
   "source": [
    "pick = np.random.randint(1,9999, 5)\n",
    "\n",
    "for i in range(5):\n",
    "    plt.subplot(1,5,i+1)\n",
    "    plt.imshow(x_test[pick[i]].reshape(28,28), cmap='Greys')\n",
    "    plt.title(predict[pick[i]])\n",
    "    plt.axis(\"off\")"
   ]
  },
  {
   "cell_type": "code",
   "execution_count": null,
   "metadata": {},
   "outputs": [],
   "source": []
  },
  {
   "cell_type": "code",
   "execution_count": null,
   "metadata": {},
   "outputs": [],
   "source": []
  }
 ],
 "metadata": {
  "kernelspec": {
   "display_name": "Python 3",
   "language": "python",
   "name": "python3"
  },
  "language_info": {
   "codemirror_mode": {
    "name": "ipython",
    "version": 3
   },
   "file_extension": ".py",
   "mimetype": "text/x-python",
   "name": "python",
   "nbconvert_exporter": "python",
   "pygments_lexer": "ipython3",
   "version": "3.6.4"
  }
 },
 "nbformat": 4,
 "nbformat_minor": 2
}
