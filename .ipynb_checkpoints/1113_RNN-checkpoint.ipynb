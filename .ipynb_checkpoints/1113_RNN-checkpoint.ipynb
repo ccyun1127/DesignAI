{
 "cells": [
  {
   "cell_type": "markdown",
   "metadata": {},
   "source": [
    "# RNN 有記憶的神經網路\n",
    "要記得前面發生的事，將前一次的輸出當成這一次的輸入\n",
    "\n",
    "我們終於要介紹三大神經網路的最後一個, 也就是 RNN。RNN 有不少的變型, 例如 LSTM 和 GRU 等等, 不過我們都通稱叫 RNN。RNN 是一種「有記憶」的神經網路, 非常適合時間序列啦, 或是不定長度的輸入資料。\n",
    "\n",
    "我們來看看怎麼樣用 RNN 做電影評論的「情意分析」, 也就是知道一則評論究竟是「正評」還是「負評」。"
   ]
  },
  {
   "cell_type": "markdown",
   "metadata": {},
   "source": [
    "## 01 初始準備"
   ]
  },
  {
   "cell_type": "code",
   "execution_count": 1,
   "metadata": {},
   "outputs": [
    {
     "name": "stdout",
     "output_type": "stream",
     "text": [
      "env: KERAS_BACKEND=tensorflow\n"
     ]
    }
   ],
   "source": [
    "%env KERAS_BACKEND=tensorflow"
   ]
  },
  {
   "cell_type": "code",
   "execution_count": 2,
   "metadata": {},
   "outputs": [],
   "source": [
    "%matplotlib inline\n",
    "\n",
    "import numpy as np\n",
    "import matplotlib.pyplot as plt"
   ]
  },
  {
   "cell_type": "markdown",
   "metadata": {},
   "source": [
    "## 02 讀入 IMDB 電影數據庫\n",
    "今天我們要評入 IMDB 電影數據庫影評的部份。"
   ]
  },
  {
   "cell_type": "code",
   "execution_count": 3,
   "metadata": {},
   "outputs": [
    {
     "name": "stderr",
     "output_type": "stream",
     "text": [
      "Using TensorFlow backend.\n"
     ]
    }
   ],
   "source": [
    "from keras.datasets import imdb"
   ]
  },
  {
   "cell_type": "code",
   "execution_count": 4,
   "metadata": {},
   "outputs": [],
   "source": [
    "(x_train, y_train), (x_test, y_test) = imdb.load_data(num_words=10000)"
   ]
  },
  {
   "cell_type": "markdown",
   "metadata": {},
   "source": [
    "要注意這裡我們限制只選「最常用」1 萬字, 也就是超過這範圍的就當不存在。這是文字分析常會做的事。"
   ]
  },
  {
   "cell_type": "code",
   "execution_count": 5,
   "metadata": {},
   "outputs": [
    {
     "data": {
      "text/plain": [
       "25000"
      ]
     },
     "execution_count": 5,
     "metadata": {},
     "output_type": "execute_result"
    }
   ],
   "source": [
    "len(x_train)"
   ]
  },
  {
   "cell_type": "code",
   "execution_count": 6,
   "metadata": {},
   "outputs": [
    {
     "data": {
      "text/plain": [
       "25000"
      ]
     },
     "execution_count": 6,
     "metadata": {},
     "output_type": "execute_result"
    }
   ],
   "source": [
    "len(x_test)"
   ]
  },
  {
   "cell_type": "code",
   "execution_count": 7,
   "metadata": {},
   "outputs": [
    {
     "data": {
      "text/plain": [
       "[1,\n",
       " 2,\n",
       " 47,\n",
       " 1678,\n",
       " 72,\n",
       " 19,\n",
       " 61,\n",
       " 205,\n",
       " 2,\n",
       " 5,\n",
       " 2,\n",
       " 146,\n",
       " 6,\n",
       " 655,\n",
       " 2212,\n",
       " 1021,\n",
       " 336,\n",
       " 7,\n",
       " 107,\n",
       " 146,\n",
       " 179,\n",
       " 2,\n",
       " 11,\n",
       " 61,\n",
       " 965,\n",
       " 5,\n",
       " 1624,\n",
       " 113,\n",
       " 131,\n",
       " 13,\n",
       " 28,\n",
       " 1460,\n",
       " 39,\n",
       " 61,\n",
       " 501,\n",
       " 15,\n",
       " 13,\n",
       " 361,\n",
       " 2,\n",
       " 8,\n",
       " 2,\n",
       " 5,\n",
       " 1341,\n",
       " 39,\n",
       " 63,\n",
       " 13,\n",
       " 244,\n",
       " 1364,\n",
       " 9026,\n",
       " 54,\n",
       " 134,\n",
       " 2,\n",
       " 5,\n",
       " 68,\n",
       " 2166,\n",
       " 1497,\n",
       " 68,\n",
       " 456,\n",
       " 19,\n",
       " 72,\n",
       " 36,\n",
       " 339,\n",
       " 72,\n",
       " 8,\n",
       " 4392,\n",
       " 61,\n",
       " 113,\n",
       " 5,\n",
       " 61,\n",
       " 649,\n",
       " 19,\n",
       " 61,\n",
       " 223,\n",
       " 10,\n",
       " 10,\n",
       " 4,\n",
       " 123,\n",
       " 1025,\n",
       " 111,\n",
       " 409,\n",
       " 2,\n",
       " 83,\n",
       " 4,\n",
       " 501,\n",
       " 7,\n",
       " 4,\n",
       " 6176,\n",
       " 5,\n",
       " 2672,\n",
       " 687,\n",
       " 15,\n",
       " 242,\n",
       " 2164,\n",
       " 68,\n",
       " 6644,\n",
       " 111,\n",
       " 7,\n",
       " 178,\n",
       " 2712,\n",
       " 88,\n",
       " 45,\n",
       " 99,\n",
       " 629,\n",
       " 8,\n",
       " 140,\n",
       " 145,\n",
       " 5,\n",
       " 81,\n",
       " 17,\n",
       " 2676,\n",
       " 3088,\n",
       " 560,\n",
       " 4,\n",
       " 3808,\n",
       " 5,\n",
       " 921,\n",
       " 5607,\n",
       " 7,\n",
       " 4,\n",
       " 882,\n",
       " 11,\n",
       " 4,\n",
       " 2267,\n",
       " 5,\n",
       " 955,\n",
       " 479,\n",
       " 7,\n",
       " 263,\n",
       " 1548,\n",
       " 4,\n",
       " 123,\n",
       " 1015,\n",
       " 6,\n",
       " 176,\n",
       " 7,\n",
       " 1109,\n",
       " 18,\n",
       " 33,\n",
       " 222,\n",
       " 397,\n",
       " 14,\n",
       " 1773,\n",
       " 645,\n",
       " 14,\n",
       " 7847,\n",
       " 9,\n",
       " 1350,\n",
       " 5,\n",
       " 878,\n",
       " 21,\n",
       " 290,\n",
       " 12,\n",
       " 38,\n",
       " 76,\n",
       " 9029,\n",
       " 7,\n",
       " 6644,\n",
       " 2615,\n",
       " 5,\n",
       " 701,\n",
       " 2615,\n",
       " 186,\n",
       " 8,\n",
       " 2754,\n",
       " 4,\n",
       " 5029,\n",
       " 1341,\n",
       " 400,\n",
       " 45,\n",
       " 5015,\n",
       " 15,\n",
       " 4,\n",
       " 6176,\n",
       " 43,\n",
       " 31,\n",
       " 251,\n",
       " 645,\n",
       " 8,\n",
       " 1258,\n",
       " 56,\n",
       " 42,\n",
       " 845,\n",
       " 18,\n",
       " 253,\n",
       " 42,\n",
       " 1742,\n",
       " 42,\n",
       " 532,\n",
       " 602,\n",
       " 5,\n",
       " 150,\n",
       " 36,\n",
       " 191,\n",
       " 570,\n",
       " 24,\n",
       " 38,\n",
       " 2,\n",
       " 26,\n",
       " 44,\n",
       " 880,\n",
       " 1460,\n",
       " 13,\n",
       " 70,\n",
       " 2198,\n",
       " 8,\n",
       " 4,\n",
       " 275,\n",
       " 687,\n",
       " 5,\n",
       " 2,\n",
       " 11,\n",
       " 2851,\n",
       " 456,\n",
       " 50,\n",
       " 26,\n",
       " 1141,\n",
       " 1326,\n",
       " 5,\n",
       " 1767,\n",
       " 5630,\n",
       " 111,\n",
       " 2,\n",
       " 28,\n",
       " 3117,\n",
       " 4309,\n",
       " 2569,\n",
       " 49,\n",
       " 362,\n",
       " 331,\n",
       " 8261,\n",
       " 913,\n",
       " 8,\n",
       " 4313,\n",
       " 8,\n",
       " 148,\n",
       " 37,\n",
       " 104,\n",
       " 15,\n",
       " 6644,\n",
       " 9,\n",
       " 35,\n",
       " 120,\n",
       " 2097,\n",
       " 8,\n",
       " 6,\n",
       " 2,\n",
       " 13,\n",
       " 62,\n",
       " 43,\n",
       " 135,\n",
       " 15,\n",
       " 275,\n",
       " 84,\n",
       " 8261,\n",
       " 5897,\n",
       " 261,\n",
       " 49,\n",
       " 362,\n",
       " 2885,\n",
       " 4313,\n",
       " 73,\n",
       " 409,\n",
       " 40,\n",
       " 2,\n",
       " 11,\n",
       " 4,\n",
       " 123,\n",
       " 8307,\n",
       " 11,\n",
       " 6,\n",
       " 7961,\n",
       " 23,\n",
       " 4,\n",
       " 1873,\n",
       " 5,\n",
       " 28,\n",
       " 68,\n",
       " 456,\n",
       " 1437,\n",
       " 1194,\n",
       " 34,\n",
       " 4,\n",
       " 1494,\n",
       " 10,\n",
       " 10,\n",
       " 18,\n",
       " 463,\n",
       " 236,\n",
       " 2,\n",
       " 2,\n",
       " 301,\n",
       " 15,\n",
       " 184,\n",
       " 185,\n",
       " 2,\n",
       " 4846,\n",
       " 2,\n",
       " 39,\n",
       " 349,\n",
       " 59,\n",
       " 2,\n",
       " 18,\n",
       " 2208,\n",
       " 18,\n",
       " 6,\n",
       " 5451,\n",
       " 291,\n",
       " 154,\n",
       " 3608,\n",
       " 5,\n",
       " 1625,\n",
       " 349,\n",
       " 2569,\n",
       " 41,\n",
       " 481,\n",
       " 1081,\n",
       " 8,\n",
       " 259,\n",
       " 4,\n",
       " 201,\n",
       " 9,\n",
       " 1061,\n",
       " 19,\n",
       " 1618,\n",
       " 15,\n",
       " 75,\n",
       " 70,\n",
       " 361,\n",
       " 8,\n",
       " 391,\n",
       " 263,\n",
       " 205,\n",
       " 4484,\n",
       " 5,\n",
       " 97,\n",
       " 2,\n",
       " 8,\n",
       " 263,\n",
       " 456,\n",
       " 400,\n",
       " 45,\n",
       " 148,\n",
       " 7,\n",
       " 178,\n",
       " 19,\n",
       " 4139,\n",
       " 1341,\n",
       " 37,\n",
       " 2712,\n",
       " 4,\n",
       " 6309,\n",
       " 17,\n",
       " 36,\n",
       " 135,\n",
       " 60,\n",
       " 6,\n",
       " 2230,\n",
       " 106,\n",
       " 9,\n",
       " 208,\n",
       " 1453,\n",
       " 6,\n",
       " 251,\n",
       " 21,\n",
       " 6,\n",
       " 550,\n",
       " 106,\n",
       " 70,\n",
       " 140,\n",
       " 2,\n",
       " 18,\n",
       " 179,\n",
       " 6,\n",
       " 137,\n",
       " 366,\n",
       " 45,\n",
       " 93,\n",
       " 129,\n",
       " 113,\n",
       " 4309,\n",
       " 10,\n",
       " 10,\n",
       " 8,\n",
       " 4,\n",
       " 1180,\n",
       " 1294,\n",
       " 25,\n",
       " 18,\n",
       " 231,\n",
       " 4,\n",
       " 123,\n",
       " 18,\n",
       " 7847,\n",
       " 83,\n",
       " 4,\n",
       " 501,\n",
       " 18,\n",
       " 4,\n",
       " 794,\n",
       " 1969,\n",
       " 82,\n",
       " 4,\n",
       " 2876,\n",
       " 4,\n",
       " 2718,\n",
       " 5,\n",
       " 4,\n",
       " 756,\n",
       " 228,\n",
       " 26,\n",
       " 530,\n",
       " 10,\n",
       " 10,\n",
       " 8,\n",
       " 4,\n",
       " 2,\n",
       " 1294,\n",
       " 25,\n",
       " 18,\n",
       " 129,\n",
       " 3158,\n",
       " 8,\n",
       " 1497,\n",
       " 726,\n",
       " 42,\n",
       " 24,\n",
       " 25,\n",
       " 28,\n",
       " 1678,\n",
       " 624,\n",
       " 25,\n",
       " 28,\n",
       " 1678,\n",
       " 72]"
      ]
     },
     "execution_count": 7,
     "metadata": {},
     "output_type": "execute_result"
    }
   ],
   "source": [
    "x_train[999]"
   ]
  },
  {
   "cell_type": "code",
   "execution_count": 8,
   "metadata": {},
   "outputs": [
    {
     "data": {
      "text/plain": [
       "434"
      ]
     },
     "execution_count": 8,
     "metadata": {},
     "output_type": "execute_result"
    }
   ],
   "source": [
    "len(x_train[999])"
   ]
  },
  {
   "cell_type": "code",
   "execution_count": 9,
   "metadata": {},
   "outputs": [
    {
     "data": {
      "text/plain": [
       "171"
      ]
     },
     "execution_count": 9,
     "metadata": {},
     "output_type": "execute_result"
    }
   ],
   "source": [
    "len(x_train[99])"
   ]
  },
  {
   "cell_type": "code",
   "execution_count": 10,
   "metadata": {},
   "outputs": [],
   "source": [
    "#資料處理\n",
    "from keras.preprocessing import sequence"
   ]
  },
  {
   "cell_type": "code",
   "execution_count": 11,
   "metadata": {},
   "outputs": [],
   "source": [
    "x_train = sequence.pad_sequences(x_train, maxlen=100)\n",
    "x_test = sequence.pad_sequences(x_test, maxlen =100)"
   ]
  },
  {
   "cell_type": "code",
   "execution_count": 12,
   "metadata": {},
   "outputs": [
    {
     "data": {
      "text/plain": [
       "(25000, 100)"
      ]
     },
     "execution_count": 12,
     "metadata": {},
     "output_type": "execute_result"
    }
   ],
   "source": [
    "x_train.shape"
   ]
  },
  {
   "cell_type": "markdown",
   "metadata": {},
   "source": [
    "## 設計我們的情意分析RNN\n",
    "*10000>3\n",
    "*RNN:10\n",
    "*Dense(1)"
   ]
  },
  {
   "cell_type": "code",
   "execution_count": 13,
   "metadata": {},
   "outputs": [],
   "source": [
    "from keras.models import Sequential\n",
    "from keras.layers import LSTM, Dense, Embedding"
   ]
  },
  {
   "cell_type": "markdown",
   "metadata": {},
   "source": [
    "## 打造我們的神經網路"
   ]
  },
  {
   "cell_type": "markdown",
   "metadata": {},
   "source": [
    "## step1 建置RNN神經網路"
   ]
  },
  {
   "cell_type": "code",
   "execution_count": 22,
   "metadata": {},
   "outputs": [],
   "source": [
    "model = Sequential()"
   ]
  },
  {
   "cell_type": "code",
   "execution_count": 23,
   "metadata": {},
   "outputs": [],
   "source": [
    "model.add(Embedding(10000,4))"
   ]
  },
  {
   "cell_type": "code",
   "execution_count": 24,
   "metadata": {},
   "outputs": [],
   "source": [
    "model.add(LSTM(10))"
   ]
  },
  {
   "cell_type": "code",
   "execution_count": 25,
   "metadata": {},
   "outputs": [],
   "source": [
    "model.add(Dense(1, activation='sigmoid'))"
   ]
  },
  {
   "cell_type": "markdown",
   "metadata": {},
   "source": [
    "# 組裝"
   ]
  },
  {
   "cell_type": "code",
   "execution_count": 26,
   "metadata": {},
   "outputs": [],
   "source": [
    "model.compile(loss='binary_crossentropy',\n",
    "              optimizer='adam',\n",
    "             metrics=['accuracy'])"
   ]
  },
  {
   "cell_type": "code",
   "execution_count": 27,
   "metadata": {},
   "outputs": [
    {
     "name": "stdout",
     "output_type": "stream",
     "text": [
      "_________________________________________________________________\n",
      "Layer (type)                 Output Shape              Param #   \n",
      "=================================================================\n",
      "embedding_2 (Embedding)      (None, None, 4)           40000     \n",
      "_________________________________________________________________\n",
      "lstm_2 (LSTM)                (None, 10)                600       \n",
      "_________________________________________________________________\n",
      "dense_2 (Dense)              (None, 1)                 11        \n",
      "=================================================================\n",
      "Total params: 40,611\n",
      "Trainable params: 40,611\n",
      "Non-trainable params: 0\n",
      "_________________________________________________________________\n"
     ]
    }
   ],
   "source": [
    "model.summary()"
   ]
  },
  {
   "cell_type": "code",
   "execution_count": 29,
   "metadata": {},
   "outputs": [],
   "source": [
    "#4*(13*10+10)"
   ]
  },
  {
   "cell_type": "markdown",
   "metadata": {},
   "source": [
    "## step 2. 開始訓練"
   ]
  },
  {
   "cell_type": "code",
   "execution_count": 30,
   "metadata": {},
   "outputs": [
    {
     "name": "stdout",
     "output_type": "stream",
     "text": [
      "Epoch 1/17\n",
      "25000/25000 [==============================] - 81s 3ms/step - loss: 0.4787 - acc: 0.7655\n",
      "Epoch 2/17\n",
      "25000/25000 [==============================] - 81s 3ms/step - loss: 0.2906 - acc: 0.8835\n",
      "Epoch 3/17\n",
      "25000/25000 [==============================] - 81s 3ms/step - loss: 0.2363 - acc: 0.9101\n",
      "Epoch 4/17\n",
      "25000/25000 [==============================] - 81s 3ms/step - loss: 0.1997 - acc: 0.9272\n",
      "Epoch 5/17\n",
      "25000/25000 [==============================] - 103s 4ms/step - loss: 0.1778 - acc: 0.9394\n",
      "Epoch 6/17\n",
      "25000/25000 [==============================] - 95s 4ms/step - loss: 0.1575 - acc: 0.9457\n",
      "Epoch 7/17\n",
      "25000/25000 [==============================] - 82s 3ms/step - loss: 0.1434 - acc: 0.9538\n",
      "Epoch 8/17\n",
      "25000/25000 [==============================] - 92s 4ms/step - loss: 0.1262 - acc: 0.9599\n",
      "Epoch 9/17\n",
      "25000/25000 [==============================] - 87s 3ms/step - loss: 0.1116 - acc: 0.9660\n",
      "Epoch 10/17\n",
      "25000/25000 [==============================] - 85s 3ms/step - loss: 0.1040 - acc: 0.9676\n",
      "Epoch 11/17\n",
      "25000/25000 [==============================] - 86s 3ms/step - loss: 0.0920 - acc: 0.9729\n",
      "Epoch 12/17\n",
      "25000/25000 [==============================] - 84s 3ms/step - loss: 0.0792 - acc: 0.9771\n",
      "Epoch 13/17\n",
      "25000/25000 [==============================] - 94s 4ms/step - loss: 0.0735 - acc: 0.9805\n",
      "Epoch 14/17\n",
      "25000/25000 [==============================] - 90s 4ms/step - loss: 0.0681 - acc: 0.9821\n",
      "Epoch 15/17\n",
      "25000/25000 [==============================] - 90s 4ms/step - loss: 0.0636 - acc: 0.9829\n",
      "Epoch 16/17\n",
      "25000/25000 [==============================] - 90s 4ms/step - loss: 0.0605 - acc: 0.9836\n",
      "Epoch 17/17\n",
      "25000/25000 [==============================] - 93s 4ms/step - loss: 0.0562 - acc: 0.9856\n"
     ]
    },
    {
     "data": {
      "text/plain": [
       "<keras.callbacks.History at 0x122b9c630>"
      ]
     },
     "execution_count": 30,
     "metadata": {},
     "output_type": "execute_result"
    }
   ],
   "source": [
    "model.fit(x_train, y_train,\n",
    "         batch_size=32,\n",
    "         epochs=17)"
   ]
  },
  {
   "cell_type": "markdown",
   "metadata": {},
   "source": [
    "## 測試資料"
   ]
  },
  {
   "cell_type": "code",
   "execution_count": 31,
   "metadata": {},
   "outputs": [
    {
     "name": "stdout",
     "output_type": "stream",
     "text": [
      "25000/25000 [==============================] - 13s 501us/step\n"
     ]
    }
   ],
   "source": [
    "score = model.evaluate(x_test, y_test)"
   ]
  },
  {
   "cell_type": "code",
   "execution_count": 32,
   "metadata": {},
   "outputs": [
    {
     "name": "stdout",
     "output_type": "stream",
     "text": [
      "loss = 0.7999982861042023\n",
      "正確率 = 0.81152\n"
     ]
    }
   ],
   "source": [
    "print(f'loss = {score[0]}')\n",
    "print(f'正確率 = {score[1]}')"
   ]
  },
  {
   "cell_type": "code",
   "execution_count": null,
   "metadata": {},
   "outputs": [],
   "source": []
  }
 ],
 "metadata": {
  "kernelspec": {
   "display_name": "Python 3",
   "language": "python",
   "name": "python3"
  },
  "language_info": {
   "codemirror_mode": {
    "name": "ipython",
    "version": 3
   },
   "file_extension": ".py",
   "mimetype": "text/x-python",
   "name": "python",
   "nbconvert_exporter": "python",
   "pygments_lexer": "ipython3",
   "version": "3.6.4"
  }
 },
 "nbformat": 4,
 "nbformat_minor": 2
}
